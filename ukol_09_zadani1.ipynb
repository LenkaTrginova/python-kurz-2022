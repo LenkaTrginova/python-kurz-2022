{
 "cells": [
  {
   "cell_type": "code",
   "execution_count": 8,
   "metadata": {},
   "outputs": [],
   "source": [
    "import pandas as pd\n",
    "\n",
    "#Načti data o zaměstnancích z CSV souborů do tabulek (DataFrame)\n",
    "zam_praha = pd.read_csv(\"zam_praha.csv\")\n",
    "zam_plzen = pd.read_csv(\"zam_plzen.csv\")\n",
    "zam_liberec = pd.read_csv(\"zam_liberec.csv\")"
   ]
  },
  {
   "cell_type": "code",
   "execution_count": 9,
   "metadata": {},
   "outputs": [],
   "source": [
    "#Ke každé tabulce přidej nový sloupec mesto, které bude obsahovat informaci o tom, ve kterém městě zaměstnanec pracuje.\n",
    "zam_praha[\"město\"] = \"Praha\"\n",
    "zam_plzen[\"město\"] = \"Plzeň\"\n",
    "zam_liberec[\"město\"] = \"Liberec\""
   ]
  },
  {
   "cell_type": "code",
   "execution_count": 10,
   "metadata": {},
   "outputs": [],
   "source": [
    "#Vytvoř novou tabulku zamestnanci a ulož do ní informace o všech zaměstnancích (operace concat)\n",
    "zamestnanci = pd.concat([zam_praha, zam_plzen, zam_liberec], ignore_index=True)"
   ]
  },
  {
   "cell_type": "code",
   "execution_count": 11,
   "metadata": {},
   "outputs": [],
   "source": [
    "#Ze souboru platy_2021_02.csv načti platy zaměstnanců za únor 2021. \n",
    "platy = pd.read_csv(\"platy_2021_02.csv\")\n",
    "#Propoj tabulku (operace join) s platy a tabulku se zaměstnanci pomocí sloupce cislo_zamestnance.\n",
    "zamestnanci_platy = pd.merge(zamestnanci, platy, on=[\"cislo_zamestnance\"], how=\"left\")"
   ]
  },
  {
   "cell_type": "code",
   "execution_count": 17,
   "metadata": {},
   "outputs": [
    {
     "data": {
      "text/html": [
       "<div>\n",
       "<style scoped>\n",
       "    .dataframe tbody tr th:only-of-type {\n",
       "        vertical-align: middle;\n",
       "    }\n",
       "\n",
       "    .dataframe tbody tr th {\n",
       "        vertical-align: top;\n",
       "    }\n",
       "\n",
       "    .dataframe thead th {\n",
       "        text-align: right;\n",
       "    }\n",
       "</style>\n",
       "<table border=\"1\" class=\"dataframe\">\n",
       "  <thead>\n",
       "    <tr style=\"text-align: right;\">\n",
       "      <th></th>\n",
       "      <th>jmeno</th>\n",
       "      <th>prijimeni</th>\n",
       "    </tr>\n",
       "  </thead>\n",
       "  <tbody>\n",
       "    <tr>\n",
       "      <th>4</th>\n",
       "      <td>Marcel</td>\n",
       "      <td>Hájek</td>\n",
       "    </tr>\n",
       "    <tr>\n",
       "      <th>12</th>\n",
       "      <td>Karolína</td>\n",
       "      <td>Short</td>\n",
       "    </tr>\n",
       "    <tr>\n",
       "      <th>13</th>\n",
       "      <td>Michelle</td>\n",
       "      <td>Vlčková</td>\n",
       "    </tr>\n",
       "    <tr>\n",
       "      <th>16</th>\n",
       "      <td>John</td>\n",
       "      <td>Bailey</td>\n",
       "    </tr>\n",
       "    <tr>\n",
       "      <th>17</th>\n",
       "      <td>William</td>\n",
       "      <td>Shelton</td>\n",
       "    </tr>\n",
       "    <tr>\n",
       "      <th>18</th>\n",
       "      <td>Miroslava</td>\n",
       "      <td>Veselá</td>\n",
       "    </tr>\n",
       "    <tr>\n",
       "      <th>21</th>\n",
       "      <td>Nathan</td>\n",
       "      <td>Svoboda</td>\n",
       "    </tr>\n",
       "    <tr>\n",
       "      <th>24</th>\n",
       "      <td>Robert</td>\n",
       "      <td>Říha</td>\n",
       "    </tr>\n",
       "    <tr>\n",
       "      <th>33</th>\n",
       "      <td>Jindřich</td>\n",
       "      <td>Howell</td>\n",
       "    </tr>\n",
       "    <tr>\n",
       "      <th>34</th>\n",
       "      <td>Alexander</td>\n",
       "      <td>Martinez</td>\n",
       "    </tr>\n",
       "    <tr>\n",
       "      <th>48</th>\n",
       "      <td>Jennifer</td>\n",
       "      <td>Brown</td>\n",
       "    </tr>\n",
       "    <tr>\n",
       "      <th>50</th>\n",
       "      <td>Robert</td>\n",
       "      <td>Macias</td>\n",
       "    </tr>\n",
       "    <tr>\n",
       "      <th>55</th>\n",
       "      <td>Ivan</td>\n",
       "      <td>Bartoš</td>\n",
       "    </tr>\n",
       "  </tbody>\n",
       "</table>\n",
       "</div>"
      ],
      "text/plain": [
       "        jmeno prijimeni\n",
       "4      Marcel     Hájek\n",
       "12   Karolína     Short\n",
       "13   Michelle   Vlčková\n",
       "16       John    Bailey\n",
       "17    William   Shelton\n",
       "18  Miroslava    Veselá\n",
       "21     Nathan   Svoboda\n",
       "24     Robert      Říha\n",
       "33   Jindřich    Howell\n",
       "34  Alexander  Martinez\n",
       "48   Jennifer     Brown\n",
       "50     Robert    Macias\n",
       "55       Ivan    Bartoš"
      ]
     },
     "execution_count": 17,
     "metadata": {},
     "output_type": "execute_result"
    }
   ],
   "source": [
    "#Porovnej rozměry tabulek před spojením a po spojení. Pokud nemá některý zaměstnanec plat za únor, znamená to, že v naší firmě již nepracuje.\n",
    "\n",
    "#Nepovinný bonus 1: Ulož do proměnné počet zaměstnanců, kteří v naší firmě již nepracují.V rámci úspory se IT oddělení rozhodlo prověřit licence přidělené zaměstnancům, kteří ve firmě již nepracují. \n",
    "bývalí_zamestnanci=zamestnanci_platy[zamestnanci_platy[\"plat\"].isnull()]\n",
    "#Vytvoř samostatnou tabulku, která obsahuje jména zaměstnanců, kteří ve firmě již nepracují.\n",
    "jmena_exzamestnancu=bývalí_zamestnanci[[\"jmeno\",\"prijimeni\"]]\n",
    "#Tabulku ulož do souboru CSV.\n",
    "jmena_exzamestnancu.to_csv(\"soubor.csv\", index=False)"
   ]
  },
  {
   "cell_type": "code",
   "execution_count": 13,
   "metadata": {},
   "outputs": [
    {
     "data": {
      "text/plain": [
       "město\n",
       "Liberec    43775.0\n",
       "Plzeň      44793.0\n",
       "Praha      43295.0\n",
       "Name: plat, dtype: float64"
      ]
     },
     "execution_count": 13,
     "metadata": {},
     "output_type": "execute_result"
    }
   ],
   "source": [
    "#Spočti průměrný plat zaměstnanců v jednotlivých kancelářích.\n",
    "prum_plat=zamestnanci_platy.groupby('město')['plat'].mean().round()\n",
    "prum_plat"
   ]
  }
 ],
 "metadata": {
  "kernelspec": {
   "display_name": "Python 3",
   "language": "python",
   "name": "python3"
  },
  "language_info": {
   "codemirror_mode": {
    "name": "ipython",
    "version": 3
   },
   "file_extension": ".py",
   "mimetype": "text/x-python",
   "name": "python",
   "nbconvert_exporter": "python",
   "pygments_lexer": "ipython3",
   "version": "3.9.10"
  }
 },
 "nbformat": 4,
 "nbformat_minor": 2
}
