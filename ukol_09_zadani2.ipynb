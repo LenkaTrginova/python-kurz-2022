{
 "cells": [
  {
   "cell_type": "code",
   "execution_count": 18,
   "metadata": {},
   "outputs": [],
   "source": [
    "import pandas as pd\n",
    "#Načti data ze souboru a ulož je do tabulky.\n",
    "vykazy = pd.read_csv(\"vykazy.csv\")"
   ]
  },
  {
   "cell_type": "code",
   "execution_count": 15,
   "metadata": {},
   "outputs": [],
   "source": [
    "#Proveď agregaci a zjisti celkový počet vykázaných hodin za jednotlivé projekty.\n",
    "pocet_hodin=vykazy.groupby('project')['hours'].sum()"
   ]
  },
  {
   "cell_type": "code",
   "execution_count": 25,
   "metadata": {},
   "outputs": [],
   "source": [
    "#Nepovinný bonus 2: \n",
    "#Propoj tabulku s výkazy s tabulkou se zaměstnanci, kterou jsi vytvořil(a) v předchozím cvičení.\n",
    "zam_praha = pd.read_csv(\"zam_praha.csv\")\n",
    "zam_plzen = pd.read_csv(\"zam_plzen.csv\")\n",
    "zam_liberec = pd.read_csv(\"zam_liberec.csv\")\n",
    "\n",
    "zam_praha[\"město\"] = \"Praha\"\n",
    "zam_plzen[\"město\"] = \"Plzeň\"\n",
    "zam_liberec[\"město\"] = \"Liberec\"\n",
    "\n",
    "zamestnanci = pd.concat([zam_praha, zam_plzen, zam_liberec], ignore_index=True)\n",
    "\n",
    "zamestnanci_vykazy = pd.merge(zamestnanci, vykazy, left_on='cislo_zamestnance', right_on='emloyee_id', how=\"inner\")"
   ]
  },
  {
   "cell_type": "code",
   "execution_count": 24,
   "metadata": {},
   "outputs": [
    {
     "data": {
      "text/html": [
       "<div>\n",
       "<style scoped>\n",
       "    .dataframe tbody tr th:only-of-type {\n",
       "        vertical-align: middle;\n",
       "    }\n",
       "\n",
       "    .dataframe tbody tr th {\n",
       "        vertical-align: top;\n",
       "    }\n",
       "\n",
       "    .dataframe thead th {\n",
       "        text-align: right;\n",
       "    }\n",
       "</style>\n",
       "<table border=\"1\" class=\"dataframe\">\n",
       "  <thead>\n",
       "    <tr style=\"text-align: right;\">\n",
       "      <th></th>\n",
       "      <th>město</th>\n",
       "      <th>project</th>\n",
       "      <th>hours</th>\n",
       "    </tr>\n",
       "  </thead>\n",
       "  <tbody>\n",
       "    <tr>\n",
       "      <th>0</th>\n",
       "      <td>Liberec</td>\n",
       "      <td>TE1</td>\n",
       "      <td>10.8</td>\n",
       "    </tr>\n",
       "    <tr>\n",
       "      <th>1</th>\n",
       "      <td>Liberec</td>\n",
       "      <td>W05</td>\n",
       "      <td>5.4</td>\n",
       "    </tr>\n",
       "    <tr>\n",
       "      <th>2</th>\n",
       "      <td>Liberec</td>\n",
       "      <td>YLI</td>\n",
       "      <td>11.8</td>\n",
       "    </tr>\n",
       "    <tr>\n",
       "      <th>3</th>\n",
       "      <td>Plzeň</td>\n",
       "      <td>F30</td>\n",
       "      <td>10.3</td>\n",
       "    </tr>\n",
       "    <tr>\n",
       "      <th>4</th>\n",
       "      <td>Plzeň</td>\n",
       "      <td>YLI</td>\n",
       "      <td>5.3</td>\n",
       "    </tr>\n",
       "    <tr>\n",
       "      <th>5</th>\n",
       "      <td>Praha</td>\n",
       "      <td>F30</td>\n",
       "      <td>11.2</td>\n",
       "    </tr>\n",
       "    <tr>\n",
       "      <th>6</th>\n",
       "      <td>Praha</td>\n",
       "      <td>JL9</td>\n",
       "      <td>2.1</td>\n",
       "    </tr>\n",
       "    <tr>\n",
       "      <th>7</th>\n",
       "      <td>Praha</td>\n",
       "      <td>TE1</td>\n",
       "      <td>5.2</td>\n",
       "    </tr>\n",
       "    <tr>\n",
       "      <th>8</th>\n",
       "      <td>Praha</td>\n",
       "      <td>W05</td>\n",
       "      <td>25.1</td>\n",
       "    </tr>\n",
       "    <tr>\n",
       "      <th>9</th>\n",
       "      <td>Praha</td>\n",
       "      <td>YLI</td>\n",
       "      <td>13.9</td>\n",
       "    </tr>\n",
       "  </tbody>\n",
       "</table>\n",
       "</div>"
      ],
      "text/plain": [
       "     město project  hours\n",
       "0  Liberec     TE1   10.8\n",
       "1  Liberec     W05    5.4\n",
       "2  Liberec     YLI   11.8\n",
       "3    Plzeň     F30   10.3\n",
       "4    Plzeň     YLI    5.3\n",
       "5    Praha     F30   11.2\n",
       "6    Praha     JL9    2.1\n",
       "7    Praha     TE1    5.2\n",
       "8    Praha     W05   25.1\n",
       "9    Praha     YLI   13.9"
      ]
     },
     "execution_count": 24,
     "metadata": {},
     "output_type": "execute_result"
    }
   ],
   "source": [
    "#Následně proveď statistiku vykázaných hodin za jednotlivé kanceláře, tj. spočítej celkový počet hodin vykázaný zaměstnanci jednotlivých kanceláří na projekty daného zákazníka.\n",
    "vykazane_hodiny=zamestnanci_vykazy.groupby(['město', 'project'])['hours'].sum().reset_index()\n",
    "vykazane_hodiny"
   ]
  }
 ],
 "metadata": {
  "kernelspec": {
   "display_name": "Python 3",
   "language": "python",
   "name": "python3"
  },
  "language_info": {
   "codemirror_mode": {
    "name": "ipython",
    "version": 3
   },
   "file_extension": ".py",
   "mimetype": "text/x-python",
   "name": "python",
   "nbconvert_exporter": "python",
   "pygments_lexer": "ipython3",
   "version": "3.9.10"
  }
 },
 "nbformat": 4,
 "nbformat_minor": 2
}
